{
 "cells": [
  {
   "cell_type": "markdown",
   "id": "6deab74b",
   "metadata": {},
   "source": [
    "# Chapter 2. Getting Started with NumPy\n",
    "+ Introduction to the NumPy Ndarrays\n",
    "+ Ndarray properties\n",
    "+ NumPy constants"
   ]
  },
  {
   "cell_type": "markdown",
   "id": "a1396001",
   "metadata": {},
   "source": [
    "## NumPy and Ndarrays\n",
    "+ NumPy is the fundamental package for numerical computation\n",
    "+ Ndarray - is a multidimensional array (also known as a container) of items that have the same datatype and size\n",
    "\n",
    "Особенности Ndarray:\n",
    "+ размер и тип данных опредлеяем при создании\n",
    "+ доступ к элементам через индекс\n",
    "+ ндекс начинается с 0\n"
   ]
  },
  {
   "cell_type": "code",
   "execution_count": 2,
   "id": "f012f1e1",
   "metadata": {},
   "outputs": [
    {
     "data": {
      "text/plain": [
       "array([1, 2, 3], dtype=int16)"
      ]
     },
     "execution_count": 2,
     "metadata": {},
     "output_type": "execute_result"
    }
   ],
   "source": [
    "import numpy as np\n",
    "\n",
    "l1 =[1,2,3]\n",
    "x = np.array(l1, dtype=np.int16)\n",
    "x"
   ]
  },
  {
   "cell_type": "code",
   "execution_count": 4,
   "id": "09e9d151",
   "metadata": {},
   "outputs": [
    {
     "data": {
      "text/plain": [
       "array([3, 4, 5], dtype=int16)"
      ]
     },
     "execution_count": 4,
     "metadata": {},
     "output_type": "execute_result"
    }
   ],
   "source": [
    "y = np.array([3, 4, 5], dtype=np.int16)\n",
    "y"
   ]
  },
  {
   "cell_type": "code",
   "execution_count": 5,
   "id": "46250d5e",
   "metadata": {},
   "outputs": [
    {
     "name": "stdout",
     "output_type": "stream",
     "text": [
      "[3 4 5]\n",
      "<class 'numpy.ndarray'>\n"
     ]
    }
   ],
   "source": [
    "print(y)\n",
    "print(type(y))"
   ]
  },
  {
   "cell_type": "markdown",
   "id": "6bec82f2",
   "metadata": {},
   "source": [
    "## Indexing in Ndarrays"
   ]
  },
  {
   "cell_type": "code",
   "execution_count": 6,
   "id": "38106a05",
   "metadata": {},
   "outputs": [
    {
     "name": "stdout",
     "output_type": "stream",
     "text": [
      "1\n",
      "3\n"
     ]
    },
    {
     "data": {
      "text/plain": [
       "(None, None)"
      ]
     },
     "execution_count": 6,
     "metadata": {},
     "output_type": "execute_result"
    }
   ],
   "source": [
    "print(x[0]), print(x[-1])"
   ]
  },
  {
   "cell_type": "markdown",
   "id": "787d962e",
   "metadata": {},
   "source": [
    "## Indexing in Ndarrays of More Than One Dimension"
   ]
  },
  {
   "cell_type": "code",
   "execution_count": 7,
   "id": "fa130c54",
   "metadata": {},
   "outputs": [
    {
     "data": {
      "text/plain": [
       "array([[1, 2, 3],\n",
       "       [4, 5, 6]], dtype=int16)"
      ]
     },
     "execution_count": 7,
     "metadata": {},
     "output_type": "execute_result"
    }
   ],
   "source": [
    "x1 = np.array([[1, 2, 3], \n",
    "              [4, 5, 6]], \n",
    "             np.int16)\n",
    "x1"
   ]
  },
  {
   "cell_type": "code",
   "execution_count": 9,
   "id": "371f2323",
   "metadata": {},
   "outputs": [
    {
     "data": {
      "text/plain": [
       "(1, 6)"
      ]
     },
     "execution_count": 9,
     "metadata": {},
     "output_type": "execute_result"
    }
   ],
   "source": [
    "x1[0,0], x1[-1,-1]"
   ]
  },
  {
   "cell_type": "code",
   "execution_count": 11,
   "id": "c9c56e67",
   "metadata": {},
   "outputs": [
    {
     "data": {
      "text/plain": [
       "array([1, 2, 3], dtype=int16)"
      ]
     },
     "execution_count": 11,
     "metadata": {},
     "output_type": "execute_result"
    }
   ],
   "source": [
    "x1[0,:]"
   ]
  },
  {
   "cell_type": "code",
   "execution_count": 12,
   "id": "ac1e7774",
   "metadata": {},
   "outputs": [
    {
     "data": {
      "text/plain": [
       "array([2, 5], dtype=int16)"
      ]
     },
     "execution_count": 12,
     "metadata": {},
     "output_type": "execute_result"
    }
   ],
   "source": [
    "x1[:,1]"
   ]
  },
  {
   "cell_type": "code",
   "execution_count": 13,
   "id": "51cdf3ce",
   "metadata": {},
   "outputs": [
    {
     "data": {
      "text/plain": [
       "array([[10, 20, 30],\n",
       "       [40, 50, 60]], dtype=int16)"
      ]
     },
     "execution_count": 13,
     "metadata": {},
     "output_type": "execute_result"
    }
   ],
   "source": [
    "x1 * 10"
   ]
  },
  {
   "cell_type": "markdown",
   "id": "2e58e7fc",
   "metadata": {},
   "source": [
    "## Ndarray Properties"
   ]
  },
  {
   "cell_type": "code",
   "execution_count": 18,
   "id": "f45bcf89",
   "metadata": {},
   "outputs": [
    {
     "data": {
      "text/plain": [
       "array([[[ 1,  2,  3],\n",
       "        [ 4,  5,  6]],\n",
       "\n",
       "       [[ 0, -1, -2],\n",
       "        [-3, -4, -5]]], dtype=int16)"
      ]
     },
     "execution_count": 18,
     "metadata": {},
     "output_type": "execute_result"
    }
   ],
   "source": [
    "x2 = np.array([[[1,2,3],\n",
    "               [4,5,6]],\n",
    "              [[0,-1,-2],\n",
    "               [-3,-4,-5]]],\n",
    "             np.int16)\n",
    "x2"
   ]
  },
  {
   "cell_type": "code",
   "execution_count": 19,
   "id": "7e1bf2b5",
   "metadata": {},
   "outputs": [
    {
     "data": {
      "text/plain": [
       "3"
      ]
     },
     "execution_count": 19,
     "metadata": {},
     "output_type": "execute_result"
    }
   ],
   "source": [
    "# number of dimensions\n",
    "x2.ndim"
   ]
  },
  {
   "cell_type": "code",
   "execution_count": 20,
   "id": "80c2ee7b",
   "metadata": {},
   "outputs": [
    {
     "data": {
      "text/plain": [
       "(2, 2, 3)"
      ]
     },
     "execution_count": 20,
     "metadata": {},
     "output_type": "execute_result"
    }
   ],
   "source": [
    "# shape of the Ndarray\n",
    "x2.shape"
   ]
  },
  {
   "cell_type": "code",
   "execution_count": 21,
   "id": "d5bb6bfb",
   "metadata": {},
   "outputs": [
    {
     "data": {
      "text/plain": [
       "dtype('int16')"
      ]
     },
     "execution_count": 21,
     "metadata": {},
     "output_type": "execute_result"
    }
   ],
   "source": [
    "# datatype of the members\n",
    "x2.dtype"
   ]
  },
  {
   "cell_type": "code",
   "execution_count": 23,
   "id": "81b63a73",
   "metadata": {},
   "outputs": [
    {
     "data": {
      "text/plain": [
       "24"
      ]
     },
     "execution_count": 23,
     "metadata": {},
     "output_type": "execute_result"
    }
   ],
   "source": [
    "# umber of bytes required in the memory\n",
    "x2.nbytes"
   ]
  },
  {
   "cell_type": "code",
   "execution_count": 25,
   "id": "2040d36f",
   "metadata": {},
   "outputs": [
    {
     "data": {
      "text/plain": [
       "array([[[ 1,  0],\n",
       "        [ 4, -3]],\n",
       "\n",
       "       [[ 2, -1],\n",
       "        [ 5, -4]],\n",
       "\n",
       "       [[ 3, -2],\n",
       "        [ 6, -5]]], dtype=int16)"
      ]
     },
     "execution_count": 25,
     "metadata": {},
     "output_type": "execute_result"
    }
   ],
   "source": [
    "# transpose\n",
    "x2.T"
   ]
  },
  {
   "cell_type": "markdown",
   "id": "83eac624",
   "metadata": {},
   "source": [
    "## NumPy Constants"
   ]
  },
  {
   "cell_type": "code",
   "execution_count": 26,
   "id": "2c572c7e",
   "metadata": {},
   "outputs": [
    {
     "data": {
      "text/plain": [
       "inf"
      ]
     },
     "execution_count": 26,
     "metadata": {},
     "output_type": "execute_result"
    }
   ],
   "source": [
    "np.inf"
   ]
  },
  {
   "cell_type": "code",
   "execution_count": 27,
   "id": "ec51fed2",
   "metadata": {},
   "outputs": [
    {
     "data": {
      "text/plain": [
       "nan"
      ]
     },
     "execution_count": 27,
     "metadata": {},
     "output_type": "execute_result"
    }
   ],
   "source": [
    "np.NAN"
   ]
  },
  {
   "cell_type": "code",
   "execution_count": 28,
   "id": "c359335a",
   "metadata": {},
   "outputs": [
    {
     "data": {
      "text/plain": [
       "-inf"
      ]
     },
     "execution_count": 28,
     "metadata": {},
     "output_type": "execute_result"
    }
   ],
   "source": [
    "np.NINF"
   ]
  },
  {
   "cell_type": "code",
   "execution_count": 29,
   "id": "2bc24356",
   "metadata": {},
   "outputs": [
    {
     "data": {
      "text/plain": [
       "-0.0"
      ]
     },
     "execution_count": 29,
     "metadata": {},
     "output_type": "execute_result"
    }
   ],
   "source": [
    "np.NZERO"
   ]
  },
  {
   "cell_type": "code",
   "execution_count": 31,
   "id": "c9f290a4",
   "metadata": {},
   "outputs": [
    {
     "data": {
      "text/plain": [
       "0.0"
      ]
     },
     "execution_count": 31,
     "metadata": {},
     "output_type": "execute_result"
    }
   ],
   "source": [
    "np.PZERO"
   ]
  },
  {
   "cell_type": "code",
   "execution_count": 32,
   "id": "d8008357",
   "metadata": {},
   "outputs": [
    {
     "data": {
      "text/plain": [
       "2.718281828459045"
      ]
     },
     "execution_count": 32,
     "metadata": {},
     "output_type": "execute_result"
    }
   ],
   "source": [
    "np.e"
   ]
  },
  {
   "cell_type": "code",
   "execution_count": 33,
   "id": "05617504",
   "metadata": {},
   "outputs": [
    {
     "data": {
      "text/plain": [
       "0.5772156649015329"
      ]
     },
     "execution_count": 33,
     "metadata": {},
     "output_type": "execute_result"
    }
   ],
   "source": [
    "np.euler_gamma"
   ]
  },
  {
   "cell_type": "code",
   "execution_count": 34,
   "id": "56c4161f",
   "metadata": {},
   "outputs": [
    {
     "data": {
      "text/plain": [
       "3.141592653589793"
      ]
     },
     "execution_count": 34,
     "metadata": {},
     "output_type": "execute_result"
    }
   ],
   "source": [
    "np.pi"
   ]
  },
  {
   "cell_type": "markdown",
   "id": "fabf44d6",
   "metadata": {},
   "source": [
    "## Slicing Ndarrays"
   ]
  },
  {
   "cell_type": "code",
   "execution_count": 35,
   "id": "26ba33a8",
   "metadata": {},
   "outputs": [
    {
     "data": {
      "text/plain": [
       "array([1, 2, 3, 4, 5, 6, 7])"
      ]
     },
     "execution_count": 35,
     "metadata": {},
     "output_type": "execute_result"
    }
   ],
   "source": [
    "a1 = np.array([1,2,3,4,5,6,7])\n",
    "a1"
   ]
  },
  {
   "cell_type": "code",
   "execution_count": 36,
   "id": "7cd5dd54",
   "metadata": {},
   "outputs": [
    {
     "data": {
      "text/plain": [
       "array([3, 4])"
      ]
     },
     "execution_count": 36,
     "metadata": {},
     "output_type": "execute_result"
    }
   ],
   "source": [
    "a1[2:4]"
   ]
  },
  {
   "cell_type": "code",
   "execution_count": 37,
   "id": "56aee2b1",
   "metadata": {},
   "outputs": [
    {
     "data": {
      "text/plain": [
       "array([4, 5, 6, 7])"
      ]
     },
     "execution_count": 37,
     "metadata": {},
     "output_type": "execute_result"
    }
   ],
   "source": [
    "a1[3:]"
   ]
  },
  {
   "cell_type": "code",
   "execution_count": 39,
   "id": "f864291a",
   "metadata": {},
   "outputs": [
    {
     "data": {
      "text/plain": [
       "array([1, 2, 3])"
      ]
     },
     "execution_count": 39,
     "metadata": {},
     "output_type": "execute_result"
    }
   ],
   "source": [
    "a1[:3]"
   ]
  },
  {
   "cell_type": "code",
   "execution_count": 40,
   "id": "fab61007",
   "metadata": {},
   "outputs": [
    {
     "data": {
      "text/plain": [
       "array([4, 5, 6])"
      ]
     },
     "execution_count": 40,
     "metadata": {},
     "output_type": "execute_result"
    }
   ],
   "source": [
    "a1[-4:-1]"
   ]
  },
  {
   "cell_type": "code",
   "execution_count": 41,
   "id": "e3b96f1a",
   "metadata": {},
   "outputs": [
    {
     "data": {
      "text/plain": [
       "array([2, 4, 6])"
      ]
     },
     "execution_count": 41,
     "metadata": {},
     "output_type": "execute_result"
    }
   ],
   "source": [
    "a1[1:6:2]"
   ]
  }
 ],
 "metadata": {
  "kernelspec": {
   "display_name": "Python 3 (ipykernel)",
   "language": "python",
   "name": "python3"
  },
  "language_info": {
   "codemirror_mode": {
    "name": "ipython",
    "version": 3
   },
   "file_extension": ".py",
   "mimetype": "text/x-python",
   "name": "python",
   "nbconvert_exporter": "python",
   "pygments_lexer": "ipython3",
   "version": "3.11.4"
  }
 },
 "nbformat": 4,
 "nbformat_minor": 5
}
